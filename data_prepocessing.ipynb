{
 "cells": [
  {
   "cell_type": "code",
   "execution_count": 1,
   "metadata": {},
   "outputs": [],
   "source": [
    "import json\n",
    "import pandas as pd"
   ]
  },
  {
   "cell_type": "code",
   "execution_count": 2,
   "metadata": {},
   "outputs": [],
   "source": [
    "saoke = []\n",
    "for line in open('SAOKE_DATA.json', 'r'):\n",
    "    saoke.append(json.loads(line))"
   ]
  },
  {
   "cell_type": "code",
   "execution_count": 18,
   "metadata": {},
   "outputs": [
    {
     "data": {
      "text/plain": [
       "{'logic': [{'object': ['[低山|山麓地带]的[次生阔叶林|阔叶林|针阔叶混交林]中'],\n",
       "   'place': '_',\n",
       "   'predicate': '主要栖息于',\n",
       "   'qualifier': '_',\n",
       "   'subject': '_',\n",
       "   'time': '_'},\n",
       "  {'object': ['[人工林|针叶林]'],\n",
       "   'place': '_',\n",
       "   'predicate': '也出入于',\n",
       "   'qualifier': '_',\n",
       "   'subject': '_',\n",
       "   'time': '_'},\n",
       "  {'object': ['海拔1700米的[中|高]山地带'],\n",
       "   'place': '在北方',\n",
       "   'predicate': '有时可上到',\n",
       "   'qualifier': '_',\n",
       "   'subject': '_',\n",
       "   'time': '夏季'},\n",
       "  {'object': ['海拔3000米左右的森林中'],\n",
       "   'place': '在南方',\n",
       "   'predicate': '甚至上到',\n",
       "   'qualifier': '_',\n",
       "   'subject': '_',\n",
       "   'time': '夏季'},\n",
       "  {'object': ['[山麓|邻近平原地带]的[次生阔叶林|人工林|林缘疏林灌丛]'],\n",
       "   'place': '_',\n",
       "   'predicate': '多下到',\n",
       "   'qualifier': '_',\n",
       "   'subject': '_',\n",
       "   'time': '冬季'},\n",
       "  {'object': ['[果园|道旁]|[地边树丛|[房前屋后|庭院中]的树上]'],\n",
       "   'place': '_',\n",
       "   'predicate': '有时也进到',\n",
       "   'qualifier': '_',\n",
       "   'subject': '_',\n",
       "   'time': '_'}],\n",
       " 'natural': '主要栖息于低山和山麓地带的次生阔叶林、阔叶林和针阔叶混交林中，也出入于人工林和针叶林，夏季在北方有时可上到海拔1700米的中、高山地带，在南方夏季甚至上到海拔3000米左右的森林中，冬季多下到山麓和邻近平原地带的次生阔叶林、人工林和林缘疏林灌丛，有时也进到果园、道旁和地边树丛、房前屋后和庭院中的树上。'}"
      ]
     },
     "execution_count": 18,
     "metadata": {},
     "output_type": "execute_result"
    }
   ],
   "source": [
    "saoke[0]"
   ]
  },
  {
   "cell_type": "code",
   "execution_count": 63,
   "metadata": {},
   "outputs": [],
   "source": [
    "sent = ''\n",
    "for o in saoke[0]['logic']:\n",
    "    sent += str(tuple([replaceMissinfo(o['subject'])]+ [replaceMisspred(o['predicate'])] + [replaceMissinfo(o['object'][0])]))\n",
    "    sent += '$'"
   ]
  },
  {
   "cell_type": "code",
   "execution_count": 67,
   "metadata": {},
   "outputs": [
    {
     "data": {
      "text/plain": [
       "\"('X', '主要栖息于', '[低山|山麓地带]的[次生阔叶林|阔叶林|针阔叶混交林]中')$('X', '也出入于', '[人工林|针叶林]')$('X', '有时可上到', '海拔1700米的[中|高]山地带')$('X', '甚至上到', '海拔3000米左右的森林中')$('X', '多下到', '[山麓|邻近平原地带]的[次生阔叶林|人工林|林缘疏林灌丛]')$('X', '有时也进到', '[果园|道旁]|[地边树丛|[房前屋后|庭院中]的树上]')$\""
      ]
     },
     "execution_count": 67,
     "metadata": {},
     "output_type": "execute_result"
    }
   ],
   "source": [
    "sent[:]"
   ]
  },
  {
   "cell_type": "code",
   "execution_count": 56,
   "metadata": {},
   "outputs": [],
   "source": [
    "def replaceMissinfo(aaa):\n",
    "    placeholder = ['Z','Y','X']\n",
    "    for i in range(len(aaa)):\n",
    "        if aaa[i] == '_':\n",
    "            aaa = aaa[:i] + placeholder.pop() + aaa[i+1:]\n",
    "    return aaa\n",
    "def replaceMisspred(aaa):\n",
    "    if aaa == '_':\n",
    "        return 'P'\n",
    "    else:\n",
    "        return aaa\n",
    "        "
   ]
  },
  {
   "cell_type": "code",
   "execution_count": 68,
   "metadata": {},
   "outputs": [],
   "source": [
    "labels = []\n",
    "for sentence in saoke:\n",
    "    sent = ''\n",
    "    for o in sentence['logic']:\n",
    "        sent += str(tuple([replaceMissinfo(o['subject'])]+ [replaceMisspred(o['predicate'])] + [replaceMissinfo(o['object'][0])]))\n",
    "        sent += '$'\n",
    "    labels.append(sent[:-1])"
   ]
  },
  {
   "cell_type": "code",
   "execution_count": null,
   "metadata": {},
   "outputs": [],
   "source": []
  }
 ],
 "metadata": {
  "kernelspec": {
   "display_name": "Python 3",
   "language": "python",
   "name": "python3"
  },
  "language_info": {
   "codemirror_mode": {
    "name": "ipython",
    "version": 3
   },
   "file_extension": ".py",
   "mimetype": "text/x-python",
   "name": "python",
   "nbconvert_exporter": "python",
   "pygments_lexer": "ipython3",
   "version": "3.6.3"
  }
 },
 "nbformat": 4,
 "nbformat_minor": 2
}
